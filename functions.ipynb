{
  "nbformat": 4,
  "nbformat_minor": 0,
  "metadata": {
    "colab": {
      "provenance": []
    },
    "kernelspec": {
      "name": "python3",
      "display_name": "Python 3"
    },
    "language_info": {
      "name": "python"
    }
  },
  "cells": [
    {
      "cell_type": "code",
      "execution_count": null,
      "metadata": {
        "id": "mSVdqLHUnLBo"
      },
      "outputs": [],
      "source": []
    },
    {
      "cell_type": "code",
      "source": [],
      "metadata": {
        "id": "Eeay8irkfrMY"
      },
      "execution_count": null,
      "outputs": []
    },
    {
      "cell_type": "markdown",
      "source": [
        "## **Functions**"
      ],
      "metadata": {
        "id": "oRvxh836nLx1"
      }
    },
    {
      "cell_type": "markdown",
      "source": [
        "1.\tWhat is the difference between a function and a method in Python?\n",
        "   - In Python, both functions and methods are blocks of reusable code designed to perform specific tasks, but their key difference lies in their association with objects and classes.\n",
        "Function:\n",
        "A function is a standalone block of code defined independently of any class or object.\n",
        "It is called directly by its name and can take arguments as input, optionally returning a value.\n",
        "\n",
        "        Method:\n",
        "        A method is a function that is defined within a class and is associated with objects        (instances) of that class.\n",
        "       Methods are called on an object using dot notation (e.g., object.method()).\n",
        "\n",
        "2.\tExplain the concept of function arguments and parameters in Python.\n",
        "   - In Python, the terms \"parameters\" and \"arguments\" are distinct concepts related to functions:\n",
        "Parameters: These are the variables defined within the parentheses in a function's definition. They act as placeholders or names for the values that the function expects to receive when it is called. Parameters are part of the function's signature and dictate the type and number of inputs the function can accept.\n",
        "def greet(name, age): # 'name' and 'age' are parameters\n",
        "        print(f\"Hello, {name}! You are {age} years old.\")\n",
        "        Arguments: These are the actual values or data that are passed to a function when it is called. Arguments are assigned to the corresponding parameters in the function's definition during the function call.\n",
        "        greet(\"Alice\", 30) # \"Alice\" and 30 are arguments.\n",
        "\n",
        "3.\tWhat are the different ways to define and call a function in Python?\n",
        "   - Functions in Python are defined using the def keyword. The basic syntax is as follows:\n",
        "def function_name(parameter1, parameter2, ...):\n",
        "     Code block for the function\n",
        "     ...\n",
        "    return result  # Optional, returns a value\n",
        "Key elements:\n",
        "def keyword: Initiates the function definition.\n",
        "function_name: A unique identifier for the function.\n",
        "Parentheses (): Enclose the function's parameters (arguments). Parameters are optional.\n",
        "Colon :: Marks the end of the function header.\n",
        "Indented code block: The statements that make up the function's body must be indented.\n",
        "return statement (optional): Used to exit the function and optionally return a value.\n",
        "      Calling a Function in Python\n",
        "      To execute the code within a defined function, you need to call it.\n",
        "       Calling a function without arguments\n",
        "       function_name()\n",
        "\n",
        "       Calling a function with arguments\n",
        "      function_name(argument1, argument2, ...)\n",
        "       Key elements:\n",
        "       function_name: The name of the function you want to execute.\n",
        "        Parentheses (): Essential for calling the function.\n",
        "       Arguments: Values passed within the parentheses that correspond to the function's parameters.\n",
        "       Return value: If the function returns a value, it can be assigned to a variable or used directly\n",
        "\n",
        "4. \tWhat is the purpose of the `return` statement in a Python function?\n",
        "   - The return statement in a Python function serves two primary purposes:\n",
        "Exiting the Function:\n",
        "When a return statement is encountered within a function, the function's execution immediately terminates. Any code following the return statement within that function will not be executed. Control is then passed back to the point in the code where the function was called.\n",
        "Returning a Value:\n",
        "The return statement can optionally be followed by an expression or a value. This value is then \"returned\" to the caller of the function. This allows the function to produce a result that can be used by other parts of the program. If no value or expression is specified after return, or if the function reaches its end without encountering a return statement, it implicitly returns None.\n",
        "\n",
        "5. \tWhat are iterators in Python and how do they differ from iterables?\n",
        "   - terators:\n",
        "An iterator is an object that represents a stream of data. It is used to traverse through the elements of an iterable one at a time. An iterator must implement two methods:\n",
        "__iter__(): This method returns the iterator object itself.\n",
        "__next__(): This method returns the next item from the sequence. If there are no more items, it raises a StopIteration exception.\n",
        "terables:\n",
        "An iterable is an object that can be iterated over, meaning you can loop through its elements. Common examples of iterables include lists, tuples, strings, and dictionaries. An object is considered an iterable if it implements the __iter__() method, which returns an iterator.\n",
        "Differences between Iterables and Iterators:\n",
        "Purpose:\n",
        "An iterable is a container of elements that can be iterated over, while an iterator is an object that performs the iteration over an iterable.\n",
        "Methods:\n",
        "Iterables primarily implement __iter__(), while iterators implement both __iter__() and __next__().\n",
        "State:\n",
        "Iterators maintain an internal state to keep track of the current position during iteration, allowing them to return the \"next\" element. Iterables do not inherently maintain this iteration state.\n",
        "\n",
        "6. \tExplain the concept of generators in Python and how they are defined.\n",
        "   - In Python, a generator is a special type of function or expression that returns an iterator, allowing for the creation of sequences of values on demand (lazily) rather than storing them all in memory at once. This makes generators highly memory-efficient, especially when dealing with large or infinite sequences of data.\n",
        "Generators are primarily defined using the yield keyword within a function. When a function contains yield, it automatically becomes a generator function. generator functions.\n",
        "A generator function looks like a regular function, but instead of using return to send back a value and terminate, it uses yield. Each time yield is encountered, the function pauses, returns the yielded value, and saves its internal state. When the generator is iterated over again (e.g., using next(), a for loop), the function resumes execution from where it left off, continuing until the next yield statement or the function completes.\n",
        "\n",
        "7. \tWhat are the advantages of using generators over regular functions?\n",
        "   - Generators are advantageous over regular functions primarily for memory efficiency, as they produce values one by one (lazily) rather than all at once, making them ideal for large datasets and infinite sequences. They also allow for cooperative multitasking by pausing execution between yield statements and resuming later, enabling the creation of efficient data processing pipelines and cleaner code for iterative tasks.  \n",
        "Here are the key advantages:\n",
        "Memory Efficiency\n",
        "Lazy Evaluation: Generators generate and \"yield\" values on demand, only when requested, instead of calculating and storing all possible values in memory at once.\n",
        "Reduced Memory Footprint: This approach significantly reduces memory usage, especially when dealing with large files, infinite sequences, or stream data, as the entire dataset is never loaded into RAM.\n",
        "\n",
        "     Handling Large and Infinite Sequences\n",
        "     Large Datasets: Generators are excellent for processing large files or data streams chunk by chunk, preventing out-of-memory errors.\n",
        "     Infinite Sequences: They can represent and generate infinite sequences (like the Fibonacci sequence) because they don't need to store all values, only the state needed for the next value.\n",
        "\n",
        "8.\tWhat is a lambda function in Python and when is it typically used?  \n",
        "   - A lambda function in Python is a small, anonymous function defined using the lambda keyword. Unlike regular functions defined with def, lambda functions do not have a name and are restricted to a single expression, which is implicitly returned. They can take any number of arguments\n",
        "Typical Use Cases:\n",
        "Lambda functions are typically used in scenarios where a small, single-expression function is needed for a short period, often as an argument to a higher-order function (a function that takes other functions as arguments).\n",
        "Functions: Lambda functions are frequently used with built-in functions like map(), filter(), and sorted().\n",
        "\n",
        "9.\tExplain the purpose and usage of the `map()` function in Python.\n",
        "   - The map() function in Python is a built-in higher-order function used to apply a specified function to each item in an iterable (such as a list, tuple, or set). It provides a concise and efficient way to transform data within collections without explicitly writing loops.\n",
        "Purpose:\n",
        "The primary purpose of map() is to perform element-wise transformations on iterable data. It simplifies code by abstracting the iteration process, allowing developers to focus on the transformation logic rather than the mechanics of looping through each item. This can lead to more readable and often more performant code, especially when dealing with large datasets.\n",
        "Usage:\n",
        "The map() function takes at least two arguments:\n",
        "function:\n",
        "The function to be applied to each item of the iterable(s). This can be a pre-defined function or an anonymous lambda function.\n",
        "iterable:\n",
        "One or more iterables whose elements will be passed as arguments to the function.\n",
        "\n",
        "10. \tWhat is the difference between `map()`, `reduce()`, and `filter()` functions in Python?\n",
        "   - The map(), filter(), and reduce() functions in Python are higher-order functions used for functional programming paradigms, each serving a distinct purpose in data manipulation.\n",
        "map(function, iterable):\n",
        "Purpose: Applies a given function to each item in an iterable (e.g., a list, tuple) and returns a new iterable (a map object) containing the results.\n",
        "Transformation: It transforms each element individually without changing the number of elements.\n",
        "filter(function, iterable):\n",
        "Purpose: Constructs a new iterable (a filter object) containing only those elements from the original iterable for which the function (which acts as a predicate) returns True.\n",
        "Selection: It selectively includes elements based on a condition.\n",
        "reduce(function, iterable[, initializer]):\n",
        "             Purpose: Applies a function cumulatively to the items of an iterable, reducing the iterable to a single     value. It requires importing from the functools module.\n",
        "             Aggregation: It combines all elements into a single result.\n",
        "\n",
        "11.\tUsing pen & Paper write the internal mechanism for sum operation using  reduce function on this given list:[47,11,42,13];\n",
        "   - from functools import reduce\n",
        "    numbers = [47, 11, 42, 13]\n",
        "    sum_of_numbers = reduce(lambda x, y: x + y, numbers)\n",
        "     # sum_of_numbers will be 113\n",
        "             \n",
        "\n",
        "\n",
        "\n",
        "\n",
        "      \n",
        "       \n",
        "      \n"
      ],
      "metadata": {
        "id": "0S2qY4yynv9a"
      }
    },
    {
      "cell_type": "code",
      "source": [
        "# 1. Write a Python function that takes a list of numbers as input and returns the sum of all even numbers in the list.\n",
        "def sumeven(l):\n",
        "  n=[]\n",
        "  s=0\n",
        "  for i in l:\n",
        "    if i%2==0:\n",
        "      s=s+i\n",
        "  return s\n",
        "sumeven([1,2,3,4,5,6])\n",
        "\n"
      ],
      "metadata": {
        "colab": {
          "base_uri": "https://localhost:8080/"
        },
        "id": "4hjRmU4NfvLo",
        "outputId": "2740bc82-99b6-49ab-9475-5eb0440e4433"
      },
      "execution_count": 1,
      "outputs": [
        {
          "output_type": "execute_result",
          "data": {
            "text/plain": [
              "12"
            ]
          },
          "metadata": {},
          "execution_count": 1
        }
      ]
    },
    {
      "cell_type": "code",
      "source": [
        "# 2. Create a Python function that accepts a string and returns the reverse of that string.\n",
        "def test(s):\n",
        "  return s[::-1]\n",
        "test(\"Program\")"
      ],
      "metadata": {
        "colab": {
          "base_uri": "https://localhost:8080/",
          "height": 36
        },
        "id": "qEmA6WKXjEL5",
        "outputId": "c886df52-e78f-4fbe-abfc-b04126617a65"
      },
      "execution_count": 2,
      "outputs": [
        {
          "output_type": "execute_result",
          "data": {
            "text/plain": [
              "'margorP'"
            ],
            "application/vnd.google.colaboratory.intrinsic+json": {
              "type": "string"
            }
          },
          "metadata": {},
          "execution_count": 2
        }
      ]
    },
    {
      "cell_type": "code",
      "source": [
        "# 3.Implement a Python function that takes a list of integers and returns a new list containing the squares of each number.\n",
        "def squarelist(l):\n",
        "  n=[]\n",
        "  for i in l:\n",
        "    n.append(i**2)\n",
        "  return n\n",
        "squarelist([1,2,3,4,5])\n"
      ],
      "metadata": {
        "colab": {
          "base_uri": "https://localhost:8080/"
        },
        "id": "PAste39yjEPD",
        "outputId": "b8e1e773-7389-47af-967c-900cc31417b8"
      },
      "execution_count": 3,
      "outputs": [
        {
          "output_type": "execute_result",
          "data": {
            "text/plain": [
              "[1, 4, 9, 16, 25]"
            ]
          },
          "metadata": {},
          "execution_count": 3
        }
      ]
    },
    {
      "cell_type": "code",
      "source": [
        "# 4. Write a Python function that checks if a given number is prime or not from 1 to 200.\n",
        "import math\n",
        "\n",
        "def is_prime(number):\n",
        "\n",
        "    if not (1 <= number <= 200):\n",
        "        raise ValueError(\"Number must be between 1 and 200 (inclusive).\")\n",
        "\n",
        "    if number <= 1:\n",
        "        return False  # Numbers less than or equal to 1 are not prime\n",
        "    if number == 2:\n",
        "        return True   # 2 is the only even prime number\n",
        "    if number % 2 == 0:\n",
        "        return False  # Other even numbers are not prime\n",
        "\n",
        "    # Check for divisibility by odd numbers from 3 up to the square root of the number\n",
        "    for i in range(3, int(math.sqrt(number)) + 1, 2):\n",
        "        if number % i == 0:\n",
        "            return False  # Found a divisor, so it's not prime\n",
        "    return True  # No divisors found, so it's prime\n",
        "is_prime(13)\n"
      ],
      "metadata": {
        "colab": {
          "base_uri": "https://localhost:8080/"
        },
        "id": "RpFWvrzTlcnW",
        "outputId": "dc82a814-cd2b-42a9-b88e-79d9696247f8"
      },
      "execution_count": 4,
      "outputs": [
        {
          "output_type": "execute_result",
          "data": {
            "text/plain": [
              "True"
            ]
          },
          "metadata": {},
          "execution_count": 4
        }
      ]
    },
    {
      "cell_type": "code",
      "source": [
        "# 5. Create an iterator class in Python that generates the Fibonacci sequence up to a specified number of terms.\n",
        "def fibo(n):\n",
        "  a=0\n",
        "  b=1\n",
        "  for i in range(n):\n",
        "    yield a\n",
        "    a,b=b,a+b\n",
        "f=fibo(10)\n",
        "next(f)\n"
      ],
      "metadata": {
        "colab": {
          "base_uri": "https://localhost:8080/"
        },
        "id": "dKiDYWROn-Qw",
        "outputId": "f2e9d34d-5187-4850-be58-df9615c84de6"
      },
      "execution_count": 11,
      "outputs": [
        {
          "output_type": "execute_result",
          "data": {
            "text/plain": [
              "0"
            ]
          },
          "metadata": {},
          "execution_count": 11
        }
      ]
    },
    {
      "cell_type": "code",
      "source": [
        "next(f)"
      ],
      "metadata": {
        "colab": {
          "base_uri": "https://localhost:8080/"
        },
        "id": "Fo25b3jkzfau",
        "outputId": "d5b38523-2897-4634-97b1-c6b2fb986b66"
      },
      "execution_count": 8,
      "outputs": [
        {
          "output_type": "execute_result",
          "data": {
            "text/plain": [
              "1"
            ]
          },
          "metadata": {},
          "execution_count": 8
        }
      ]
    },
    {
      "cell_type": "code",
      "source": [
        "next(f)"
      ],
      "metadata": {
        "colab": {
          "base_uri": "https://localhost:8080/"
        },
        "id": "clbIasovzk6I",
        "outputId": "6357c452-d5ae-4ab4-b0ec-49ee121556e9"
      },
      "execution_count": 9,
      "outputs": [
        {
          "output_type": "execute_result",
          "data": {
            "text/plain": [
              "2"
            ]
          },
          "metadata": {},
          "execution_count": 9
        }
      ]
    },
    {
      "cell_type": "code",
      "source": [
        "next(f)"
      ],
      "metadata": {
        "colab": {
          "base_uri": "https://localhost:8080/"
        },
        "id": "MEaINaD3zofM",
        "outputId": "8f5d183b-d554-4d6f-da84-a2654384a1a0"
      },
      "execution_count": 10,
      "outputs": [
        {
          "output_type": "execute_result",
          "data": {
            "text/plain": [
              "3"
            ]
          },
          "metadata": {},
          "execution_count": 10
        }
      ]
    },
    {
      "cell_type": "code",
      "source": [
        "# 6.Write a generator function in Python that yields the powers of 2 up to a given exponent.\n",
        "def powers_of_two_generator(max_exponent):\n",
        "\n",
        "    for i in range(max_exponent + 1):\n",
        "        yield 2 ** i\n",
        "\n",
        "\n",
        "two_powers = powers_of_two_generator(5)\n",
        "\n",
        "# Iterate through the generator and print the yielded values\n",
        "print(\"Powers of 2 up to exponent 5:\")\n",
        "for p in two_powers:\n",
        "    print(p)\n"
      ],
      "metadata": {
        "colab": {
          "base_uri": "https://localhost:8080/"
        },
        "id": "MO0ofDLUzwQf",
        "outputId": "a452f1e6-dd57-46d8-b7ed-9fa29e69ad23"
      },
      "execution_count": 12,
      "outputs": [
        {
          "output_type": "stream",
          "name": "stdout",
          "text": [
            "Powers of 2 up to exponent 5:\n",
            "1\n",
            "2\n",
            "4\n",
            "8\n",
            "16\n",
            "32\n"
          ]
        }
      ]
    },
    {
      "cell_type": "code",
      "source": [
        "# 7.Implement a generator function that reads a file line by line and yields each line as a string.\n",
        "def read_file_lines(filepath):\n",
        "\n",
        "    try:\n",
        "        with open(filepath, 'r') as file:\n",
        "            for line in file:\n",
        "                yield line\n",
        "    except FileNotFoundError:\n",
        "        print(f\"Error: The file '{filepath}' was not found.\")\n",
        "    except Exception as e:\n",
        "        print(f\"An error occurred: {e}\")\n",
        "\n",
        "\n",
        "with open(\"example.txt\", \"w\") as f:\n",
        "    f.write(\"This is line 1.\\n\")\n",
        "    f.write(\"This is line 2.\\n\")\n",
        "    f.write(\"This is line 3.\\n\")\n",
        "\n",
        "# Use the generator function\n",
        "for content_line in read_file_lines(\"example.txt\"):\n",
        "    print(content_line.strip())\n"
      ],
      "metadata": {
        "colab": {
          "base_uri": "https://localhost:8080/"
        },
        "id": "BLS4TPFm2Q24",
        "outputId": "5ee3fe27-54c5-4007-e50b-3157a50996b6"
      },
      "execution_count": 16,
      "outputs": [
        {
          "output_type": "stream",
          "name": "stdout",
          "text": [
            "This is line 1.\n",
            "This is line 2.\n",
            "This is line 3.\n"
          ]
        }
      ]
    },
    {
      "cell_type": "code",
      "source": [
        "# 8. Use a lambda function in Python to sort a list of tuples based on the second element of each tuple.\n",
        "data = [(1, 'banana'), (3, 'apple'), (2, 'orange')]\n",
        "\n",
        "# Sort by the second element of each tuple\n",
        "sorted_data = sorted(data, key=lambda x: x[1])\n",
        "\n",
        "print(sorted_data)"
      ],
      "metadata": {
        "colab": {
          "base_uri": "https://localhost:8080/"
        },
        "id": "tK37Gbaq3s-n",
        "outputId": "8f85093d-5068-45da-e951-a0c3842525b5"
      },
      "execution_count": 13,
      "outputs": [
        {
          "output_type": "stream",
          "name": "stdout",
          "text": [
            "[(3, 'apple'), (1, 'banana'), (2, 'orange')]\n"
          ]
        }
      ]
    },
    {
      "cell_type": "code",
      "source": [
        "# 9.Write a Python program that uses `map()` to convert a list of temperatures from Celsius to Fahrenheit.\n",
        "def celsius_to_fahrenheit(celsius):\n",
        "  \"\"\"Converts a temperature from Celsius to Fahrenheit.\"\"\"\n",
        "  return (celsius * 9/5) + 32\n",
        "\n",
        "# List of temperatures in Celsius\n",
        "celsius_temperatures = [0, 10, 20, 30, 40, 100]\n",
        "\n",
        "# Use map() to apply the conversion function to each element in the list\n",
        "fahrenheit_temperatures_map_object = map(celsius_to_fahrenheit, celsius_temperatures)\n",
        "\n",
        "# Convert the map object to a list to view the results\n",
        "fahrenheit_temperatures = list(fahrenheit_temperatures_map_object)\n",
        "\n",
        "print(f\"Celsius temperatures: {celsius_temperatures}\")\n",
        "print(f\"Fahrenheit temperatures: {fahrenheit_temperatures}\")"
      ],
      "metadata": {
        "colab": {
          "base_uri": "https://localhost:8080/"
        },
        "id": "Q7Yagj493s7g",
        "outputId": "e08ac969-be7d-4cf4-9408-d9bcf94eeabf"
      },
      "execution_count": 14,
      "outputs": [
        {
          "output_type": "stream",
          "name": "stdout",
          "text": [
            "Celsius temperatures: [0, 10, 20, 30, 40, 100]\n",
            "Fahrenheit temperatures: [32.0, 50.0, 68.0, 86.0, 104.0, 212.0]\n"
          ]
        }
      ]
    },
    {
      "cell_type": "code",
      "source": [
        "# 10.Create a Python program that uses `filter()` to remove all the vowels from a given string.\n",
        "def remove_vowels_filter(input_string):\n",
        "\n",
        "    vowels = \"aeiouAEIOU\"\n",
        "\n",
        "\n",
        "    is_not_vowel = lambda char: char not in vowels\n",
        "\n",
        "\n",
        "    filtered_chars = filter(is_not_vowel, input_string)\n",
        "\n",
        "\n",
        "    result_string = \"\".join(filtered_chars)\n",
        "    return result_string\n",
        "\n",
        "# Example usage:\n",
        "my_string = \"Hello World! This is a Test String.\"\n",
        "string_without_vowels = remove_vowels_filter(my_string)\n",
        "print(f\"Original string: {my_string}\")\n",
        "print(f\"String without vowels: {string_without_vowels}\")\n",
        "\n",
        "another_string = \"AEIOUaeiou\"\n",
        "another_string_without_vowels = remove_vowels_filter(another_string)\n",
        "print(f\"\\nOriginal string: {another_string}\")\n",
        "print(f\"String without vowels: {another_string_without_vowels}\")"
      ],
      "metadata": {
        "colab": {
          "base_uri": "https://localhost:8080/"
        },
        "id": "FEW1hPQY6ueT",
        "outputId": "f9f083ed-4314-4522-cf1a-d7e7d00191c4"
      },
      "execution_count": 15,
      "outputs": [
        {
          "output_type": "stream",
          "name": "stdout",
          "text": [
            "Original string: Hello World! This is a Test String.\n",
            "String without vowels: Hll Wrld! Ths s  Tst Strng.\n",
            "\n",
            "Original string: AEIOUaeiou\n",
            "String without vowels: \n"
          ]
        }
      ]
    }
  ]
}